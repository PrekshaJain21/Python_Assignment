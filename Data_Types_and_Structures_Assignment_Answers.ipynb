{
  "nbformat": 4,
  "nbformat_minor": 0,
  "metadata": {
    "colab": {
      "provenance": []
    },
    "kernelspec": {
      "name": "python3",
      "display_name": "Python 3"
    },
    "language_info": {
      "name": "python"
    }
  },
  "cells": [
    {
      "cell_type": "markdown",
      "source": [
        "Q1. What are data structures, and why are they important?\n",
        "\n",
        "Answer:\n",
        "A data structure is a specialized format for organizing, managing, and storing data in a computer so that it can be accessed and modified efficiently. Data structures define the relationship between the data and the operations that can be performed on them.\n",
        "\n",
        "They are important because:\n",
        "\n",
        "They allow efficient storage, retrieval, and manipulation of data.\n",
        "\n",
        "They reduce complexity in coding by providing structured ways of handling data.\n",
        "\n",
        "They improve performance of algorithms, especially in tasks like searching, sorting, or managing large amounts of information.\n",
        "\n",
        "Different problems require different data structures; for example, lists are suitable for ordered data, sets for unique data, and dictionaries for mapping relationships.\n",
        "\n",
        "Q2. Explain the difference between mutable and immutable data types with examples.\n",
        "\n",
        "Answer:\n",
        "\n",
        "Mutable data types are those whose values can be changed after they are created. For example, elements in a list or dictionary can be modified, added, or removed.\n",
        "\n",
        "Immutable data types are those whose values cannot be altered once created. Any modification leads to the creation of a new object. Strings, tuples, and numbers are immutable.\n",
        "\n",
        "Key difference: Mutable types allow modifications in memory, while immutable types ensure that the data remains constant and secure once defined.\n",
        "\n",
        "Q3. What are the main differences between lists and tuples in Python?\n",
        "\n",
        "Answer:\n",
        "\n",
        "Mutability: Lists are mutable, meaning elements can be changed. Tuples are immutable, meaning they cannot be changed once created.\n",
        "\n",
        "Performance: Tuples are faster than lists due to immutability.\n",
        "\n",
        "Use case: Lists are preferred when data is expected to change frequently, whereas tuples are preferred for fixed data collections where integrity is required.\n",
        "\n",
        "Flexibility: Lists allow various operations like insertion and deletion, while tuples are restricted.\n",
        "\n",
        "Q4. Describe how dictionaries store data.\n",
        "\n",
        "Answer:\n",
        "Dictionaries store data as key-value pairs. Each value is associated with a unique key, and this relationship is maintained internally using a hash table. When data is accessed, Python computes the hash of the key, which provides the exact location of the value in memory.\n",
        "\n",
        "This structure allows very fast data retrieval, insertion, and deletion compared to sequential searches in lists.\n",
        "\n",
        "Q5. Why might you use a set instead of a list in Python?\n",
        "\n",
        "Answer:\n",
        "Sets are used instead of lists when:\n",
        "\n",
        "Duplicate values must be avoided, since sets store only unique elements.\n",
        "\n",
        "Faster membership testing is needed, as sets are optimized for quick lookups.\n",
        "\n",
        "Mathematical operations such as union, intersection, and difference are required.\n",
        "\n",
        "Lists, on the other hand, allow duplicates and maintain order, making them less efficient for uniqueness or mathematical operations.\n",
        "\n",
        "Q6. What is a string in Python, and how is it different from a list?\n",
        "\n",
        "Answer:\n",
        "A string is a sequence of characters enclosed within quotation marks. It is immutable, meaning its contents cannot be altered once defined.\n",
        "\n",
        "A list, however, is an ordered collection of elements of any data type and is mutable. Unlike strings, lists allow insertion, deletion, and modification of elements. Strings are mainly used for text handling, while lists are more versatile for storing and manipulating collections of data.\n",
        "\n",
        "Q7. How do tuples ensure data integrity in Python?\n",
        "\n",
        "Answer:\n",
        "Tuples ensure data integrity because they are immutable. Once a tuple is created, its elements cannot be modified, added, or removed. This prevents accidental or unauthorized changes to the data, making tuples reliable for storing fixed information such as database records, geographic coordinates, or constant values.\n",
        "\n",
        "Q8. What is a hash table, and how does it relate to dictionaries in Python?\n",
        "\n",
        "Answer:\n",
        "A hash table is a data structure that stores data in an associative manner using a hash function. It computes an index (hash) from the key, and this index determines where the corresponding value is stored in memory.\n",
        "\n",
        "In Python, dictionaries are implemented using hash tables. This allows them to provide very efficient lookups, insertions, and deletions, usually in constant time on average.\n",
        "\n",
        "Q9. Can lists contain different data types in Python?\n",
        "\n",
        "Answer:\n",
        "Yes. Lists in Python can store elements of different data types within the same structure. For example, a single list can contain integers, strings, floating-point numbers, and even other lists. This flexibility makes lists one of the most powerful and versatile data structures in Python.\n",
        "\n",
        "Q10. Explain why strings are immutable in Python.\n",
        "\n",
        "Answer:\n",
        "Strings are immutable to ensure efficiency, consistency, and security. Immutability allows Python to safely share string objects across multiple parts of a program without risk of accidental modification. It also makes operations like string hashing and caching possible, which improves performance in tasks such as dictionary lookups where strings are used as keys.\n",
        "\n",
        "Q11. What advantages do dictionaries offer over lists for certain tasks?\n",
        "\n",
        "Answer:\n",
        "\n",
        "Dictionaries allow quick access to values using keys, while lists require searching by position or value.\n",
        "\n",
        "Data stored in key-value pairs is more meaningful and organized.\n",
        "\n",
        "Dictionaries scale better when handling large datasets since they use hashing for quick retrieval.\n",
        "For example, looking up a student’s grade by their roll number is more efficient in a dictionary than in a list.\n",
        "\n",
        "Q12. Describe a scenario where using a tuple would be preferable over a list.\n",
        "\n",
        "Answer:\n",
        "A tuple is preferable when data should remain constant and secure throughout the program. Examples include:\n",
        "\n",
        "Storing coordinates (latitude and longitude).\n",
        "\n",
        "Defining a fixed set of options such as days of the week.\n",
        "\n",
        "Returning multiple values from a function where results should not be altered.\n",
        "\n",
        "Q13. How do sets handle duplicate values in Python?\n",
        "\n",
        "Answer:\n",
        "Sets automatically eliminate duplicate values. When duplicate elements are added, only one instance is stored in the set. This behavior ensures that every element in a set is unique, making sets useful for tasks such as filtering out repeated items from data collections.\n",
        "\n",
        "Q14. How does the “in” keyword work differently for lists and dictionaries?\n",
        "\n",
        "Answer:\n",
        "\n",
        "In lists, the “in” keyword checks whether a particular element exists in the list.\n",
        "\n",
        "In dictionaries, the “in” keyword checks for the presence of a key, not a value.\n",
        "This distinction makes dictionary lookups more efficient, as they rely on keys rather than scanning through values.\n",
        "\n",
        "Q15. Can you modify the elements of a tuple? Explain why or why not.\n",
        "\n",
        "Answer:\n",
        "No, elements of a tuple cannot be modified because tuples are immutable. Once created, their content is fixed, ensuring reliability and consistency. This immutability is the key reason tuples are used for storing constant data. However, if a tuple contains a mutable object, such as a list, the object itself can be changed even though the tuple structure remains unchanged.\n",
        "\n",
        "Q16. What is a nested dictionary, and give an example of its use case.\n",
        "\n",
        "Answer:\n",
        "A nested dictionary is a dictionary inside another dictionary. It allows data to be organized hierarchically, enabling storage of complex structured information.\n",
        "\n",
        "Use cases:\n",
        "\n",
        "Student management systems, where each student ID maps to another dictionary of personal details.\n",
        "\n",
        "Employee records, product catalogs, or JSON-like data structures in APIs.\n",
        "\n",
        "Q17. Describe the time complexity of accessing elements in a dictionary.\n",
        "\n",
        "Answer:\n",
        "\n",
        "On average, accessing an element in a dictionary has constant time complexity O(1) because of hash-based indexing.\n",
        "\n",
        "In the worst case, due to hash collisions, the time complexity can degrade to O(n), but this is rare because Python optimizes its hash function to minimize collisions.\n",
        "\n",
        "Q18. In what situations are lists preferred over dictionaries?\n",
        "\n",
        "Answer:\n",
        "Lists are preferred when:\n",
        "\n",
        "The order of elements is important.\n",
        "\n",
        "Data does not need to be labeled with keys.\n",
        "\n",
        "Only sequential access is required rather than quick lookups.\n",
        "For example, a list of names, marks, or daily tasks is more suitable than a dictionary.\n",
        "\n",
        "Q19. Why are dictionaries considered unordered, and how does that affect data retrieval?\n",
        "\n",
        "Answer:\n",
        "Dictionaries are conceptually unordered because they store data based on hash values of keys rather than sequence. This means that elements are not arranged in the order they are added, but rather according to their hash mapping.\n",
        "\n",
        "In recent Python versions (3.7+), insertion order is preserved, but logically retrieval is still key-based, not position-based. This means that data must always be accessed through its key, not by numerical index.\n",
        "\n",
        "Q20. Explain the difference between a list and a dictionary in terms of data retrieval.\n",
        "\n",
        "Answer:\n",
        "\n",
        "In a list, elements are retrieved by their index position. For example, the first element can be accessed by its position in the sequence.\n",
        "\n",
        "In a dictionary, elements are retrieved by their unique keys, making retrieval more meaningful and faster when handling labeled data.\n",
        "\n",
        "Thus, lists are suitable for ordered collections, while dictionaries are better for data that is best represented in pairs of keys and values."
      ],
      "metadata": {
        "id": "scZgQviP0Uw4"
      }
    },
    {
      "cell_type": "code",
      "execution_count": 1,
      "metadata": {
        "colab": {
          "base_uri": "https://localhost:8080/"
        },
        "id": "CFtm2swPyw_p",
        "outputId": "49433ac0-4431-4201-ff66-587f83d48d10"
      },
      "outputs": [
        {
          "output_type": "stream",
          "name": "stdout",
          "text": [
            "Preksha Jain\n"
          ]
        }
      ],
      "source": [
        "#1.Write a code to create a string with your name and print itP\n",
        "name = \"Preksha Jain\"\n",
        "print(name)"
      ]
    },
    {
      "cell_type": "code",
      "source": [
        "#2.Write a code to find the length of the string \"Hello World\"P\n",
        "text = \"Hello World\"\n",
        "length = len(text)\n",
        "print(\"The length of the string is:\", length)"
      ],
      "metadata": {
        "colab": {
          "base_uri": "https://localhost:8080/"
        },
        "id": "yuRQVhV21iiH",
        "outputId": "d43c1094-102f-4a65-f665-3b2153e6fb65"
      },
      "execution_count": 2,
      "outputs": [
        {
          "output_type": "stream",
          "name": "stdout",
          "text": [
            "The length of the string is: 11\n"
          ]
        }
      ]
    },
    {
      "cell_type": "code",
      "source": [
        "#3.Write a code to slice the first 3 characters from the string \"Python Programming\"P\n",
        "text = \"Python Programming\"\n",
        "sliced = text[:3]\n",
        "print(\"The first 3 characters are:\", sliced)"
      ],
      "metadata": {
        "colab": {
          "base_uri": "https://localhost:8080/"
        },
        "id": "5OOhtIQN1kLh",
        "outputId": "cb4878a4-01c6-48f9-ffa5-2a2fd7368ab5"
      },
      "execution_count": 3,
      "outputs": [
        {
          "output_type": "stream",
          "name": "stdout",
          "text": [
            "The first 3 characters are: Pyt\n"
          ]
        }
      ]
    },
    {
      "cell_type": "code",
      "source": [
        "#4.Write a code to convert the string \"hello\" to uppercase\n",
        "text = \"hello\"\n",
        "upper_text = text.upper()\n",
        "print(\"The string in uppercase is:\", upper_text)"
      ],
      "metadata": {
        "colab": {
          "base_uri": "https://localhost:8080/"
        },
        "id": "dkW5Qq5Y2OEf",
        "outputId": "ba04e269-6200-4941-eb9e-7ed7db931c1b"
      },
      "execution_count": 4,
      "outputs": [
        {
          "output_type": "stream",
          "name": "stdout",
          "text": [
            "The string in uppercase is: HELLO\n"
          ]
        }
      ]
    },
    {
      "cell_type": "code",
      "source": [
        "#5.Write a code to replace the word \"apple\" with \"orange\" in the string \"I like apple\"\n",
        "text = \"I like apple\"\n",
        "new_text = text.replace(\"apple\", \"orange\")\n",
        "print(\"The modified string is:\", new_text)"
      ],
      "metadata": {
        "colab": {
          "base_uri": "https://localhost:8080/"
        },
        "id": "apRzgnZ22U5J",
        "outputId": "7bfbee82-fef0-4f0b-9b8f-e5e02bc923da"
      },
      "execution_count": 5,
      "outputs": [
        {
          "output_type": "stream",
          "name": "stdout",
          "text": [
            "The modified string is: I like orange\n"
          ]
        }
      ]
    },
    {
      "cell_type": "code",
      "source": [
        "#6.Write a code to create a list with numbers 1 to 5 and print it\n",
        "numbers = [1, 2, 3, 4, 5]\n",
        "print(\"The list is:\", numbers)"
      ],
      "metadata": {
        "colab": {
          "base_uri": "https://localhost:8080/"
        },
        "id": "vjaKroCD2e-F",
        "outputId": "ac3ff253-3492-40ab-9b19-fd79a96c8493"
      },
      "execution_count": 6,
      "outputs": [
        {
          "output_type": "stream",
          "name": "stdout",
          "text": [
            "The list is: [1, 2, 3, 4, 5]\n"
          ]
        }
      ]
    },
    {
      "cell_type": "code",
      "source": [
        "#7.Write a code to append the number 10 to the list [1, 2, 3, 4]\n",
        "numbers = [1, 2, 3, 4]\n",
        "numbers.append(10)\n",
        "print(\"The updated list is:\", numbers)"
      ],
      "metadata": {
        "colab": {
          "base_uri": "https://localhost:8080/"
        },
        "id": "RpBOrIuI2fri",
        "outputId": "160c38b0-2d1f-40e3-9cd3-ba03a5d9fa8a"
      },
      "execution_count": 7,
      "outputs": [
        {
          "output_type": "stream",
          "name": "stdout",
          "text": [
            "The updated list is: [1, 2, 3, 4, 10]\n"
          ]
        }
      ]
    },
    {
      "cell_type": "code",
      "source": [
        "#8.Write a code to remove the number 3 from the list [1, 2, 3, 4, 5]\n",
        "numbers = [1, 2, 3, 4, 5]\n",
        "numbers.remove(3)\n",
        "print(\"The updated list is:\", numbers)"
      ],
      "metadata": {
        "colab": {
          "base_uri": "https://localhost:8080/"
        },
        "id": "EaUU7l5B2kzW",
        "outputId": "370089c2-f755-47ba-d144-7738e1c5bffc"
      },
      "execution_count": 8,
      "outputs": [
        {
          "output_type": "stream",
          "name": "stdout",
          "text": [
            "The updated list is: [1, 2, 4, 5]\n"
          ]
        }
      ]
    },
    {
      "cell_type": "code",
      "source": [
        "#9.Write a code to access the second element in the list ['a', 'b', 'c', 'd']\n",
        "letters = ['a', 'b', 'c', 'd']\n",
        "print(\"The second element is:\", letters[1])"
      ],
      "metadata": {
        "colab": {
          "base_uri": "https://localhost:8080/"
        },
        "id": "5RTZ70fk2qJH",
        "outputId": "a0dc6200-762e-4b85-823c-770b405e4dce"
      },
      "execution_count": 9,
      "outputs": [
        {
          "output_type": "stream",
          "name": "stdout",
          "text": [
            "The second element is: b\n"
          ]
        }
      ]
    },
    {
      "cell_type": "code",
      "source": [
        "#10.Write a code to reverse the list [10, 20, 30, 40, 50]\n",
        "numbers = [10, 20, 30, 40, 50]\n",
        "numbers.reverse()\n",
        "print(\"The reversed list is:\", numbers)"
      ],
      "metadata": {
        "colab": {
          "base_uri": "https://localhost:8080/"
        },
        "id": "9lGgC40g2um-",
        "outputId": "cae4502c-6a07-40f3-df45-e7916a2238fc"
      },
      "execution_count": 10,
      "outputs": [
        {
          "output_type": "stream",
          "name": "stdout",
          "text": [
            "The reversed list is: [50, 40, 30, 20, 10]\n"
          ]
        }
      ]
    },
    {
      "cell_type": "code",
      "source": [
        "#11.Write a code to create a tuple with the elements 100, 200, 300 and print it\n",
        "numbers = (100, 200, 300)\n",
        "print(\"The tuple is:\", numbers)"
      ],
      "metadata": {
        "colab": {
          "base_uri": "https://localhost:8080/"
        },
        "id": "XNMJf6rZ20UH",
        "outputId": "0b2d02e2-5d20-456f-9dc7-7c37ecf1d2fb"
      },
      "execution_count": 11,
      "outputs": [
        {
          "output_type": "stream",
          "name": "stdout",
          "text": [
            "The tuple is: (100, 200, 300)\n"
          ]
        }
      ]
    },
    {
      "cell_type": "code",
      "source": [
        "#12.Write a code to access the second-to-last element of the tuple ('red', 'green', 'blue', 'yellow')\n",
        "colors = ('red', 'green', 'blue', 'yellow')\n",
        "print(\"The second-to-last element is:\", colors[-2])"
      ],
      "metadata": {
        "colab": {
          "base_uri": "https://localhost:8080/"
        },
        "id": "AWGdBSco26Zh",
        "outputId": "5101d633-0f2a-4058-de50-5595d62bd2c0"
      },
      "execution_count": 12,
      "outputs": [
        {
          "output_type": "stream",
          "name": "stdout",
          "text": [
            "The second-to-last element is: blue\n"
          ]
        }
      ]
    },
    {
      "cell_type": "code",
      "source": [
        "#13.Write a code to find the minimum number in the tuple (10, 20, 5, 15)\n",
        "numbers = (10, 20, 5, 15)\n",
        "print(\"The minimum number is:\", min(numbers))"
      ],
      "metadata": {
        "colab": {
          "base_uri": "https://localhost:8080/"
        },
        "id": "ApBP9c1k3AID",
        "outputId": "61a0b908-9312-4d1e-d99d-c3baa74ecffe"
      },
      "execution_count": 13,
      "outputs": [
        {
          "output_type": "stream",
          "name": "stdout",
          "text": [
            "The minimum number is: 5\n"
          ]
        }
      ]
    },
    {
      "cell_type": "code",
      "source": [
        "#14.Write a code to find the index of the element \"cat\" in the tuple ('dog', 'cat', 'mouse')\n",
        "animals = ('dog', 'cat', 'mouse')\n",
        "print(\"The index of 'cat' is:\", animals.index(\"cat\"))"
      ],
      "metadata": {
        "colab": {
          "base_uri": "https://localhost:8080/"
        },
        "id": "C11ZgJwK3GFs",
        "outputId": "c9ecafa5-9f62-4bf6-d827-0765947269a0"
      },
      "execution_count": 14,
      "outputs": [
        {
          "output_type": "stream",
          "name": "stdout",
          "text": [
            "The index of 'cat' is: 1\n"
          ]
        }
      ]
    },
    {
      "cell_type": "code",
      "source": [
        "#15.Write a code to create a tuple containing three different fruits and check if \"kiwi\" is in it\n",
        "fruits = (\"apple\", \"banana\", \"orange\")\n",
        "print(\"Is 'kiwi' in the tuple?\", \"kiwi\" in fruits)"
      ],
      "metadata": {
        "colab": {
          "base_uri": "https://localhost:8080/"
        },
        "id": "0GbHMOjU3JIF",
        "outputId": "8ad62f24-d5f4-43de-ad7e-86e277e78f54"
      },
      "execution_count": 15,
      "outputs": [
        {
          "output_type": "stream",
          "name": "stdout",
          "text": [
            "Is 'kiwi' in the tuple? False\n"
          ]
        }
      ]
    },
    {
      "cell_type": "code",
      "source": [
        "#16.Write a code to create a set with the elements 'a', 'b', 'c' and print it\n",
        "letters = {'a', 'b', 'c'}\n",
        "print(\"The set is:\", letters)"
      ],
      "metadata": {
        "colab": {
          "base_uri": "https://localhost:8080/"
        },
        "id": "WRCMWqZO3Q2v",
        "outputId": "0c66ce73-aed5-4493-90b6-55bcbc027444"
      },
      "execution_count": 16,
      "outputs": [
        {
          "output_type": "stream",
          "name": "stdout",
          "text": [
            "The set is: {'a', 'c', 'b'}\n"
          ]
        }
      ]
    },
    {
      "cell_type": "code",
      "source": [
        "#17.Write a code to clear all elements from the set {1, 2, 3, 4, 5}\n",
        "numbers = {1, 2, 3, 4, 5}\n",
        "numbers.clear()\n",
        "print(\"The set after clearing is:\", numbers)"
      ],
      "metadata": {
        "colab": {
          "base_uri": "https://localhost:8080/"
        },
        "id": "tlpepJcQ3UNP",
        "outputId": "cff90d4c-2752-478b-8d57-5c463f1f97c5"
      },
      "execution_count": 17,
      "outputs": [
        {
          "output_type": "stream",
          "name": "stdout",
          "text": [
            "The set after clearing is: set()\n"
          ]
        }
      ]
    },
    {
      "cell_type": "code",
      "source": [
        "#18.Write a code to remove the element 4 from the set {1, 2, 3, 4}\n",
        "numbers = {1, 2, 3, 4}\n",
        "numbers.remove(4)\n",
        "print(\"The set after removing 4 is:\", numbers)"
      ],
      "metadata": {
        "colab": {
          "base_uri": "https://localhost:8080/"
        },
        "id": "d_YUsA-33as4",
        "outputId": "c48d8c60-6cbc-448e-cfad-78a961903514"
      },
      "execution_count": 18,
      "outputs": [
        {
          "output_type": "stream",
          "name": "stdout",
          "text": [
            "The set after removing 4 is: {1, 2, 3}\n"
          ]
        }
      ]
    },
    {
      "cell_type": "code",
      "source": [
        "#19.Write a code to find the union of two sets {1, 2, 3} and {3, 4, 5}\n",
        "set1 = {1, 2, 3}\n",
        "set2 = {3, 4, 5}\n",
        "union_set = set1.union(set2)\n",
        "print(\"The union of the sets is:\", union_set)"
      ],
      "metadata": {
        "colab": {
          "base_uri": "https://localhost:8080/"
        },
        "id": "bFTUaCN-3f0S",
        "outputId": "b55d207e-68f1-445f-8b49-4f43779b8562"
      },
      "execution_count": 19,
      "outputs": [
        {
          "output_type": "stream",
          "name": "stdout",
          "text": [
            "The union of the sets is: {1, 2, 3, 4, 5}\n"
          ]
        }
      ]
    },
    {
      "cell_type": "code",
      "source": [
        "#20.Write a code to find the intersection of two sets {1, 2, 3} and {2, 3, 4}\n",
        "set1 = {1, 2, 3}\n",
        "set2 = {2, 3, 4}\n",
        "intersection_set = set1.intersection(set2)\n",
        "print(\"The intersection of the sets is:\", intersection_set)"
      ],
      "metadata": {
        "colab": {
          "base_uri": "https://localhost:8080/"
        },
        "id": "jahOxp5y3jcb",
        "outputId": "8658da02-15ac-4180-eac7-15b3822f46b9"
      },
      "execution_count": 20,
      "outputs": [
        {
          "output_type": "stream",
          "name": "stdout",
          "text": [
            "The intersection of the sets is: {2, 3}\n"
          ]
        }
      ]
    },
    {
      "cell_type": "code",
      "source": [
        "#21.Write a code to create a dictionary with the keys \"name\", \"age\", and \"city\", and print it.\n",
        "my_dict = {\"name\": \"John\", \"age\": 25, \"city\": \"New York\"}\n",
        "print(\"The dictionary is:\", my_dict)"
      ],
      "metadata": {
        "colab": {
          "base_uri": "https://localhost:8080/"
        },
        "id": "I4s8Y_ue3mz3",
        "outputId": "74081fb8-dc1b-4fe7-d9f4-b63e9449c6f2"
      },
      "execution_count": 21,
      "outputs": [
        {
          "output_type": "stream",
          "name": "stdout",
          "text": [
            "The dictionary is: {'name': 'John', 'age': 25, 'city': 'New York'}\n"
          ]
        }
      ]
    },
    {
      "cell_type": "code",
      "source": [
        "#22.Write a code to add a new key-value pair \"country\": \"USA\" to the dictionary {'name': 'John', 'age': 25}.\n",
        "my_dict = {'name': 'John', 'age': 25}\n",
        "my_dict[\"country\"] = \"USA\"\n",
        "print(\"Updated dictionary is:\", my_dict)"
      ],
      "metadata": {
        "colab": {
          "base_uri": "https://localhost:8080/"
        },
        "id": "0m-s4j1R3tm8",
        "outputId": "e767da3c-85c1-47b0-e051-fe9cc72494ec"
      },
      "execution_count": 22,
      "outputs": [
        {
          "output_type": "stream",
          "name": "stdout",
          "text": [
            "Updated dictionary is: {'name': 'John', 'age': 25, 'country': 'USA'}\n"
          ]
        }
      ]
    },
    {
      "cell_type": "code",
      "source": [
        "#23.Write a code to access the value associated with the key \"name\" in the dictionary {'name': 'Alice', 'age': 30}.\n",
        "my_dict = {'name': 'Alice', 'age': 30}\n",
        "print(\"The value of 'name' is:\", my_dict[\"name\"])"
      ],
      "metadata": {
        "colab": {
          "base_uri": "https://localhost:8080/"
        },
        "id": "8XaLo6rk3xLR",
        "outputId": "069ae7f4-550b-4a97-8259-77702ce1ad1b"
      },
      "execution_count": 23,
      "outputs": [
        {
          "output_type": "stream",
          "name": "stdout",
          "text": [
            "The value of 'name' is: Alice\n"
          ]
        }
      ]
    },
    {
      "cell_type": "code",
      "source": [
        "#24.Write a code to remove the key \"age\" from the dictionary {'name': 'Bob', 'age': 22, 'city': 'New York'}.\n",
        "my_dict = {'name': 'Bob', 'age': 22, 'city': 'New York'}\n",
        "my_dict.pop(\"age\")\n",
        "print(\"Dictionary after removing 'age':\", my_dict)"
      ],
      "metadata": {
        "colab": {
          "base_uri": "https://localhost:8080/"
        },
        "id": "VOAp9d5g301N",
        "outputId": "32ca9d42-1d2d-4c60-fe3d-1dbeec095d13"
      },
      "execution_count": 24,
      "outputs": [
        {
          "output_type": "stream",
          "name": "stdout",
          "text": [
            "Dictionary after removing 'age': {'name': 'Bob', 'city': 'New York'}\n"
          ]
        }
      ]
    },
    {
      "cell_type": "code",
      "source": [
        "#25.Write a code to check if the key \"city\" exists in the dictionary {'name': 'Alice', 'city': 'Paris'}.\n",
        "my_dict = {'name': 'Alice', 'city': 'Paris'}\n",
        "if \"city\" in my_dict:\n",
        "    print(\"Key 'city' exists in the dictionary\")\n",
        "else:\n",
        "    print(\"Key 'city' does not exist in the dictionary\")"
      ],
      "metadata": {
        "colab": {
          "base_uri": "https://localhost:8080/"
        },
        "id": "HCVqHGW-34Zb",
        "outputId": "4520dd49-5905-458a-a14c-2a0a2546b7a0"
      },
      "execution_count": 25,
      "outputs": [
        {
          "output_type": "stream",
          "name": "stdout",
          "text": [
            "Key 'city' exists in the dictionary\n"
          ]
        }
      ]
    },
    {
      "cell_type": "code",
      "source": [
        "#26.Write a code to create a list, a tuple, and a dictionary, and print them all.\n",
        "my_list = [1, 2, 3, 4, 5]\n",
        "my_tuple = (\"apple\", \"banana\", \"cherry\")\n",
        "my_dict = {\"name\": \"John\", \"age\": 25, \"city\": \"New York\"}\n",
        "\n",
        "print(\"List:\", my_list)\n",
        "print(\"Tuple:\", my_tuple)\n",
        "print(\"Dictionary:\", my_dict)"
      ],
      "metadata": {
        "colab": {
          "base_uri": "https://localhost:8080/"
        },
        "id": "J6JGiemg379u",
        "outputId": "941b37f9-5394-45ed-d25e-00490a602919"
      },
      "execution_count": 26,
      "outputs": [
        {
          "output_type": "stream",
          "name": "stdout",
          "text": [
            "List: [1, 2, 3, 4, 5]\n",
            "Tuple: ('apple', 'banana', 'cherry')\n",
            "Dictionary: {'name': 'John', 'age': 25, 'city': 'New York'}\n"
          ]
        }
      ]
    },
    {
      "cell_type": "code",
      "source": [
        "#27.Write a code to create a list of 5 random numbers between 1 and 100, sort it in ascending order, and print the result.\n",
        "import random\n",
        "my_list = random.sample(range(1, 101), 5)\n",
        "my_list.sort()\n",
        "print(\"Sorted list of random numbers:\", my_list)"
      ],
      "metadata": {
        "colab": {
          "base_uri": "https://localhost:8080/"
        },
        "id": "q6UdEQ9P3_Uj",
        "outputId": "e4df5441-2437-4114-9447-d2d58f93b631"
      },
      "execution_count": 27,
      "outputs": [
        {
          "output_type": "stream",
          "name": "stdout",
          "text": [
            "Sorted list of random numbers: [9, 52, 60, 66, 97]\n"
          ]
        }
      ]
    },
    {
      "cell_type": "code",
      "source": [
        "#28.Write a code to create a list with strings and print the element at the third index.\n",
        "my_list = [\"apple\", \"banana\", \"cherry\", \"date\", \"fig\"]\n",
        "print(\"Element at the third index is:\", my_list[3])"
      ],
      "metadata": {
        "colab": {
          "base_uri": "https://localhost:8080/"
        },
        "id": "NKEiD_Cq4C4D",
        "outputId": "604dc73d-0890-4180-cd87-875f7f383f81"
      },
      "execution_count": 28,
      "outputs": [
        {
          "output_type": "stream",
          "name": "stdout",
          "text": [
            "Element at the third index is: date\n"
          ]
        }
      ]
    },
    {
      "cell_type": "code",
      "source": [
        "#29.Write a code to combine two dictionaries into one and print the result.\n",
        "dict1 = {\"a\": 1, \"b\": 2}\n",
        "dict2 = {\"c\": 3, \"d\": 4}\n",
        "combined_dict = {**dict1, **dict2}\n",
        "print(\"Combined dictionary:\", combined_dict)"
      ],
      "metadata": {
        "colab": {
          "base_uri": "https://localhost:8080/"
        },
        "id": "xiZpQV3R4Fp_",
        "outputId": "265e5aa1-1384-4894-c639-6a53b07adb5b"
      },
      "execution_count": 29,
      "outputs": [
        {
          "output_type": "stream",
          "name": "stdout",
          "text": [
            "Combined dictionary: {'a': 1, 'b': 2, 'c': 3, 'd': 4}\n"
          ]
        }
      ]
    },
    {
      "cell_type": "code",
      "source": [
        "#30.Write a code to convert a list of strings into a set.\n",
        "my_list = [\"apple\", \"banana\", \"cherry\", \"apple\"]\n",
        "my_set = set(my_list)\n",
        "print(\"Set:\", my_set)"
      ],
      "metadata": {
        "colab": {
          "base_uri": "https://localhost:8080/"
        },
        "id": "A1bNmeJl4IUs",
        "outputId": "c719e585-40ee-4843-f836-ca5c93c39d51"
      },
      "execution_count": 30,
      "outputs": [
        {
          "output_type": "stream",
          "name": "stdout",
          "text": [
            "Set: {'apple', 'banana', 'cherry'}\n"
          ]
        }
      ]
    },
    {
      "cell_type": "markdown",
      "source": [
        "# **THANK YOU**\n",
        "\n",
        "\n",
        "\n"
      ],
      "metadata": {
        "id": "IQ23GArb4QJW"
      }
    }
  ]
}