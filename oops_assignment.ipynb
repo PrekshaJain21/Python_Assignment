{
  "nbformat": 4,
  "nbformat_minor": 0,
  "metadata": {
    "colab": {
      "provenance": []
    },
    "kernelspec": {
      "name": "python3",
      "display_name": "Python 3"
    },
    "language_info": {
      "name": "python"
    }
  },
  "cells": [
    {
      "cell_type": "markdown",
      "source": [
        "Python OOPs Theoritical Questions:-\n",
        "\n",
        "Ques 1: What is Object-Oriented Programming (OOP)?\n",
        "Ans: Object-Oriented Programming (OOP) is a programming paradigm based on the concept of objects. These objects contain data (attributes) and methods (functions). OOP helps in modeling real-world entities and makes programs more modular, reusable, and maintainable.\n",
        "\n",
        "Ques 2: What is a class in OOP?\n",
        "Ans: A class is a blueprint or template for creating objects. It defines attributes (variables) and methods (functions) that describe the behavior and properties of the objects created from it.\n",
        "\n",
        "Ques 3: What is an object in OOP?\n",
        "Ans: An object is an instance of a class. It represents a real-world entity and contains both data (attributes) and functionality (methods) defined by the class.\n",
        "\n",
        "Ques 4: What is the difference between abstraction and encapsulation?\n",
        "Ans: Abstraction: Hides implementation details and shows only essential features (what an object does).\n",
        "\n",
        "Encapsulation: Bundles data and methods into a single unit and restricts direct access (how the data is protected).\n",
        "\n",
        "Ques 5: What are dunder methods in Python?\n",
        "Ans: Dunder methods (double underscore methods, e.g., __init__, __str__) are special predefined methods in Python. They enable operator overloading and provide specific behavior to objects.\n",
        "\n",
        "Ques 6: Explain the concept of inheritance in OOP.\n",
        "Ans: Inheritance is the process by which a class (child/derived class) acquires the properties and methods of another class (parent/base class). It promotes reusability and code organization.\n",
        "\n",
        "Ques 7: What is polymorphism in OOP?\n",
        "Ans: Polymorphism means \"many forms.\" It allows the same function or method name to have different implementations depending on the object or context.\n",
        "\n",
        "Ques 8: How is encapsulation achieved in Python?\n",
        "Ans: Encapsulation in Python is achieved by:\n",
        "\n",
        "Defining classes to group attributes and methods.\n",
        "\n",
        "Using access modifiers (public, _protected, __private) to control access.\n",
        "\n",
        "Ques 9: What is a constructor in Python?\n",
        "Ans: A constructor is a special method in Python called __init__(). It is automatically executed when an object is created and is used to initialize object attributes.\n",
        "\n",
        "Ques 10: What are class and static methods in Python?\n",
        "Ans: Class Method: Declared using @classmethod, takes cls as the first parameter, and can modify class state.\n",
        "\n",
        "Static Method: Declared using @staticmethod, does not take self or cls, and behaves like a normal function inside a class.\n",
        "\n",
        "Ques 11: What is method overloading in Python?\n",
        "Ans: Method overloading means defining multiple methods with the same name but different arguments. Python does not support true method overloading but can simulate it using default parameters or *args.\n",
        "\n",
        "Ques 12: What is method overriding in OOP?\n",
        "Ans: Method overriding occurs when a child class defines a method with the same name as one in its parent class, providing a new implementation.\n",
        "\n",
        "Ques 13: What is a property decorator in Python?\n",
        "Ans: The @property decorator is used to define getter methods for class attributes. It allows methods to be accessed like attributes, supporting encapsulation.\n",
        "\n",
        "Ques 14: Why is polymorphism important in OOP?\n",
        "Ans: Polymorphism is important because it:\n",
        "\n",
        "Improves flexibility and reusability.\n",
        "\n",
        "Allows the same interface for different data types.\n",
        "\n",
        "Makes code easier to extend and maintain.\n",
        "\n",
        "Ques 15: What is an abstract class in Python?\n",
        "Ans: An abstract class is a class that cannot be instantiated and may contain abstract methods (without implementation). Defined using the abc module and @abstractmethod. Subclasses must implement the abstract methods.\n",
        "\n",
        "Ques 16: What are the advantages of OOP?\n",
        "Ans: The main advantages of Object-Oriented Programming are:\n",
        "\n",
        "Modularity: Code is divided into classes and objects.\n",
        "\n",
        "Reusability: Inheritance allows reusing existing code.\n",
        "\n",
        "Scalability: Easy to extend and maintain.\n",
        "\n",
        "Abstraction: Hides implementation details.\n",
        "\n",
        "Encapsulation: Protects data from unauthorized access.\n",
        "\n",
        "Polymorphism: Same interface, multiple implementations.\n",
        "\n",
        "Ques 17: What is the difference between a class variable and an instance variable?\n",
        "Ans: Class Variable: Shared across all objects, defined inside class but outside methods.\n",
        "\n",
        "Instance Variable: Unique to each object, usually defined inside __init__.\n",
        "\n",
        "Ques 18: What is multiple inheritance in Python?\n",
        "Ans: Multiple inheritance allows a class to inherit from more than one parent class.\n",
        "\n",
        "Example:\n",
        "\n",
        "class A: pass\n",
        "class B: pass\n",
        "class C(A, B): pass\n",
        "\n",
        "\n",
        "Ques 19: Explain the purpose of __str__ and __repr__ methods in Python.\n",
        "Ans: __str__: Human-readable string representation (used by print()).\n",
        "\n",
        "__repr__: Developer-friendly representation (mainly for debugging).\n",
        "\n",
        "Ques 20: What is the significance of the super() function in Python?\n",
        "Ans: The super() function is used to call methods of the parent class. Commonly used in inheritance for accessing parent constructors and methods.\n",
        "\n",
        "Ques 21: What is the significance of the __del__ method in Python?\n",
        "Ans: The __del__ method is a destructor that is called when an object is about to be destroyed. It is used to release resources.\n",
        "\n",
        "Ques 22: What is the difference between @staticmethod and @classmethod in Python?\n",
        "Ans: @staticmethod: Does not take self or cls, behaves like a normal function inside a class.\n",
        "\n",
        "@classmethod: Takes cls as parameter, can modify class-level attributes.\n",
        "\n",
        "Ques 23: How does polymorphism work in Python with inheritance?\n",
        "Ans: In inheritance, child classes can override parent methods. This allows different objects to respond differently to the same method call.\n",
        "\n",
        "Example:\n",
        "\n",
        "class Animal:\n",
        "    def sound(self): print(\"Some sound\")\n",
        "class Dog(Animal):\n",
        "    def sound(self): print(\"Bark\")\n",
        "class Cat(Animal):\n",
        "    def sound(self): print(\"Meow\")\n",
        "\n",
        "for a in [Dog(), Cat()]:\n",
        "    a.sound()\n",
        "\n",
        "\n",
        "Ques 24: What is method chaining in Python OOP?\n",
        "Ans: Method chaining is calling multiple methods on the same object in a single line. Each method returns the object itself (return self).\n",
        "\n",
        "Ques 25: What is the purpose of the __call__ method in Python?\n",
        "Ans: The __call__ method makes an object callable like a function. If defined, the object can be used with parentheses.\n",
        "\n"
      ],
      "metadata": {
        "id": "sgA5MPMg-Zda"
      }
    },
    {
      "cell_type": "code",
      "source": [
        "# Practical Questions\n",
        "# 1. Create a parent class Animal with a method speak() that prints a generic message.Create a child class Dog that overrides the speak() method to print \"Bark!\".\n",
        "\n",
        "class Animal:\n",
        "    def speak(self):\n",
        "        print(\"This animal makes a sound.\")\n",
        "\n",
        "class Dog(Animal):\n",
        "    def speak(self):\n",
        "        print(\"Bark!\")\n",
        "a = Animal()\n",
        "a.speak()\n",
        "\n",
        "d = Dog()\n",
        "d.speak()\n"
      ],
      "metadata": {
        "colab": {
          "base_uri": "https://localhost:8080/"
        },
        "id": "zvAbMTqb_kbo",
        "outputId": "70d5e9f8-7202-4413-e1a5-c76a0c018df3"
      },
      "execution_count": 1,
      "outputs": [
        {
          "output_type": "stream",
          "name": "stdout",
          "text": [
            "This animal makes a sound.\n",
            "Bark!\n"
          ]
        }
      ]
    },
    {
      "cell_type": "code",
      "source": [
        "# 2. Write a program to create an abstract class Shape with a method area().Derive classes Circle and Rectangle from it and implement the area() method in both.\n",
        "\n",
        "from abc import ABC, abstractmethod\n",
        "import math\n",
        "class Shape(ABC):\n",
        "    @abstractmethod\n",
        "    def area(self):\n",
        "        pass\n",
        "class Circle(Shape):\n",
        "    def __init__(self, radius):\n",
        "        self.radius = radius\n",
        "\n",
        "    def area(self):\n",
        "        return math.pi * self.radius * self.radius\n",
        "\n",
        "class Rectangle(Shape):\n",
        "    def __init__(self, length, width):\n",
        "        self.length = length\n",
        "        self.width = width\n",
        "\n",
        "    def area(self):\n",
        "        return self.length * self.width\n",
        "\n",
        "c = Circle(5)\n",
        "print(\"Area of Circle:\", c.area())\n",
        "\n",
        "r = Rectangle(4, 6)\n",
        "print(\"Area of Rectangle:\", r.area())\n"
      ],
      "metadata": {
        "colab": {
          "base_uri": "https://localhost:8080/"
        },
        "id": "Tj7siSfSAQue",
        "outputId": "7edb2ad2-1114-4159-a640-4f3306ea0054"
      },
      "execution_count": 2,
      "outputs": [
        {
          "output_type": "stream",
          "name": "stdout",
          "text": [
            "Area of Circle: 78.53981633974483\n",
            "Area of Rectangle: 24\n"
          ]
        }
      ]
    },
    {
      "cell_type": "code",
      "source": [
        "# 3. Implement a multi-level inheritance scenario where a class Vehicle has an attribute type.Derive a class Car and further derive a class ElectricCar that adds a battery attribute.\n",
        "class Vehicle:\n",
        "    def __init__(self, vehicle_type):\n",
        "        self.type = vehicle_type\n",
        "class Car(Vehicle):\n",
        "    def __init__(self, vehicle_type, brand):\n",
        "        super().__init__(vehicle_type)\n",
        "        self.brand = brand\n",
        "class ElectricCar(Car):\n",
        "    def __init__(self, vehicle_type, brand, battery_capacity):\n",
        "        super().__init__(vehicle_type, brand)\n",
        "        self.battery = battery_capacity\n",
        "e_car = ElectricCar(\"Four Wheeler\", \"Tesla\", \"85 kWh\")\n",
        "\n",
        "print(\"Type:\", e_car.type)\n",
        "print(\"Brand:\", e_car.brand)\n",
        "print(\"Battery:\", e_car.battery)\n"
      ],
      "metadata": {
        "colab": {
          "base_uri": "https://localhost:8080/"
        },
        "id": "h7Oyh2qzAtdJ",
        "outputId": "598e93af-f30e-4c3e-a204-78ac6982f1f0"
      },
      "execution_count": 3,
      "outputs": [
        {
          "output_type": "stream",
          "name": "stdout",
          "text": [
            "Type: Four Wheeler\n",
            "Brand: Tesla\n",
            "Battery: 85 kWh\n"
          ]
        }
      ]
    },
    {
      "cell_type": "code",
      "source": [
        "# 4. Demonstrate polymorphism by creating a base class Bird with a method fly().Create two derived classes Sparrow and Penguin that override the fly() method.\n",
        "class Bird:\n",
        "    def fly(self):\n",
        "        print(\"Birds can fly.\")\n",
        "class Sparrow(Bird):\n",
        "    def fly(self):\n",
        "        print(\"Sparrow can fly high in the sky.\")\n",
        "\n",
        "class Penguin(Bird):\n",
        "    def fly(self):\n",
        "        print(\"Penguins cannot fly, they swim instead.\")\n",
        "\n",
        "birds = [Sparrow(), Penguin()]\n",
        "\n",
        "for bird in birds:\n",
        "    bird.fly()\n"
      ],
      "metadata": {
        "colab": {
          "base_uri": "https://localhost:8080/"
        },
        "id": "SiJxEiV-BDzl",
        "outputId": "5647eebb-c911-467f-bfaa-41b81ddc8570"
      },
      "execution_count": 4,
      "outputs": [
        {
          "output_type": "stream",
          "name": "stdout",
          "text": [
            "Sparrow can fly high in the sky.\n",
            "Penguins cannot fly, they swim instead.\n"
          ]
        }
      ]
    },
    {
      "cell_type": "code",
      "source": [
        "# 5. Write a program to demonstrate encapsulation by creating a class BankAccount with private attributes balance and methods to deposit, withdraw, and check balance.\n",
        "\n",
        "class BankAccount:\n",
        "    def __init__(self, initial_balance=0):\n",
        "        self.__balance = initial_balance\n",
        "    def deposit(self, amount):\n",
        "        if amount > 0:\n",
        "            self.__balance += amount\n",
        "            print(f\"Deposited: {amount}\")\n",
        "        else:\n",
        "            print(\"Deposit amount must be positive.\")\n",
        "\n",
        "    def withdraw(self, amount):\n",
        "        if 0 < amount <= self.__balance:\n",
        "            self.__balance -= amount\n",
        "            print(f\"Withdrawn: {amount}\")\n",
        "        else:\n",
        "            print(\"Insufficient balance or invalid amount.\")\n",
        "\n",
        "    def check_balance(self):\n",
        "        print(f\"Current Balance: {self.__balance}\")\n",
        "\n",
        "\n",
        "account = BankAccount(1000)\n",
        "account.check_balance()\n",
        "account.deposit(500)\n",
        "account.withdraw(300)\n",
        "account.check_balance()\n"
      ],
      "metadata": {
        "colab": {
          "base_uri": "https://localhost:8080/"
        },
        "id": "vm28NabZBPMG",
        "outputId": "6670de83-94fb-4986-9ecf-15a88e45d8b9"
      },
      "execution_count": 5,
      "outputs": [
        {
          "output_type": "stream",
          "name": "stdout",
          "text": [
            "Current Balance: 1000\n",
            "Deposited: 500\n",
            "Withdrawn: 300\n",
            "Current Balance: 1200\n"
          ]
        }
      ]
    },
    {
      "cell_type": "code",
      "source": [
        "# 6. Demonstrate runtime polymorphism using a method play() in a base class Instrument.Derive classes Guitar and Piano that implement their own version of play().\n",
        "class Instrument:\n",
        "    def play(self):\n",
        "        print(\"An instrument is being played.\")\n",
        "\n",
        "class Guitar(Instrument):\n",
        "    def play(self):\n",
        "        print(\"Strumming the guitar.\")\n",
        "\n",
        "class Piano(Instrument):\n",
        "    def play(self):\n",
        "        print(\"Playing the piano keys.\")\n",
        "\n",
        "instruments = [Guitar(), Piano()]\n",
        "\n",
        "for instrument in instruments:\n",
        "    instrument.play()\n"
      ],
      "metadata": {
        "colab": {
          "base_uri": "https://localhost:8080/"
        },
        "id": "GbbUsVpHBfFa",
        "outputId": "df5112dc-e10d-42d6-9d49-5f4914bd1061"
      },
      "execution_count": 6,
      "outputs": [
        {
          "output_type": "stream",
          "name": "stdout",
          "text": [
            "Strumming the guitar.\n",
            "Playing the piano keys.\n"
          ]
        }
      ]
    },
    {
      "cell_type": "code",
      "source": [
        "# 7. Create a class MathOperations with a class method add_numbers() to add two numbers and a static method subtract_numbers() to subtract two numbers.\n",
        "class MathOperations:\n",
        "    @classmethod\n",
        "    def add_numbers(cls, a, b):\n",
        "        return a + b\n",
        "\n",
        "    @staticmethod\n",
        "    def subtract_numbers(a, b):\n",
        "        return a - b\n",
        "\n",
        "print(\"Addition:\", MathOperations.add_numbers(10, 5))\n",
        "print(\"Subtraction:\", MathOperations.subtract_numbers(10, 5))\n"
      ],
      "metadata": {
        "colab": {
          "base_uri": "https://localhost:8080/"
        },
        "id": "FHcmTYhiBpwY",
        "outputId": "e44b52e3-c1d6-469d-cbb5-934328c9a74e"
      },
      "execution_count": 7,
      "outputs": [
        {
          "output_type": "stream",
          "name": "stdout",
          "text": [
            "Addition: 15\n",
            "Subtraction: 5\n"
          ]
        }
      ]
    },
    {
      "cell_type": "code",
      "source": [
        "# 8. Implement a class Person with a class method to count the total number of persons created.\n",
        "\n",
        "class Person:\n",
        "    count = 0\n",
        "\n",
        "    def __init__(self, name):\n",
        "        self.name = name\n",
        "        Person.count += 1\n",
        "\n",
        "    @classmethod\n",
        "    def total_persons(cls):\n",
        "        return cls.count\n",
        "\n",
        "p1 = Person(\"Alice\")\n",
        "p2 = Person(\"Bob\")\n",
        "p3 = Person(\"Charlie\")\n",
        "\n",
        "print(\"Total Persons Created:\", Person.total_persons())\n"
      ],
      "metadata": {
        "colab": {
          "base_uri": "https://localhost:8080/"
        },
        "id": "LGPT89UIBy_I",
        "outputId": "499fbbbb-65ea-4c14-c3e5-e434595084d4"
      },
      "execution_count": 8,
      "outputs": [
        {
          "output_type": "stream",
          "name": "stdout",
          "text": [
            "Total Persons Created: 3\n"
          ]
        }
      ]
    },
    {
      "cell_type": "code",
      "source": [
        "# 9. Write a class Fraction with attributes numerator and denominator.Override the __str__ method to display the fraction as \"numerator/denominator\".\n",
        "\n",
        "class Fraction:\n",
        "    def __init__(self, numerator, denominator):\n",
        "        self.numerator = numerator\n",
        "        self.denominator = denominator\n",
        "\n",
        "    def __str__(self):\n",
        "        return f\"{self.numerator}/{self.denominator}\"\n",
        "\n",
        "f1 = Fraction(3, 4)\n",
        "print(f1)\n"
      ],
      "metadata": {
        "colab": {
          "base_uri": "https://localhost:8080/"
        },
        "id": "kipQGCbvCH6Z",
        "outputId": "44992f53-b08d-4c64-d66e-a86ba0539ca5"
      },
      "execution_count": 9,
      "outputs": [
        {
          "output_type": "stream",
          "name": "stdout",
          "text": [
            "3/4\n"
          ]
        }
      ]
    },
    {
      "cell_type": "code",
      "source": [
        "# 10. Demonstrate operator overloading by creating a class Vector and overriding the __add__ method to add two vectors.\n",
        "\n",
        "class Vector:\n",
        "    def __init__(self, x, y):\n",
        "        self.x = x\n",
        "        self.y = y\n",
        "\n",
        "    def __add__(self, other):\n",
        "        return Vector(self.x + other.x, self.y + other.y)\n",
        "\n",
        "    def __str__(self):\n",
        "        return f\"Vector({self.x}, {self.y})\"\n",
        "\n",
        "v1 = Vector(2, 3)\n",
        "v2 = Vector(4, 5)\n",
        "v3 = v1 + v2\n",
        "\n",
        "print(v3)"
      ],
      "metadata": {
        "colab": {
          "base_uri": "https://localhost:8080/"
        },
        "id": "bSTEMotLCOZ_",
        "outputId": "fdb5ce3f-fd59-43c4-a13e-3be4605d4999"
      },
      "execution_count": 10,
      "outputs": [
        {
          "output_type": "stream",
          "name": "stdout",
          "text": [
            "Vector(6, 8)\n"
          ]
        }
      ]
    },
    {
      "cell_type": "code",
      "source": [
        "# 11. Create a class Person with attributes name and age.Add a method greet() that prints \"Hello, my name is {name} and I am {age} years old.\"\n",
        "\n",
        "class Person:\n",
        "    def __init__(self, name, age):\n",
        "        self.name = name\n",
        "        self.age = age\n",
        "\n",
        "    def greet(self):\n",
        "        print(f\"Hello, my name is {self.name} and I am {self.age} years old.\")\n",
        "\n",
        "\n",
        "p1 = Person(\"Alice\", 25)\n",
        "p1.greet()"
      ],
      "metadata": {
        "colab": {
          "base_uri": "https://localhost:8080/"
        },
        "id": "AgVYjom4CWc4",
        "outputId": "bd32aa7a-50ea-4ee9-a02c-f7fed66b7ff2"
      },
      "execution_count": 11,
      "outputs": [
        {
          "output_type": "stream",
          "name": "stdout",
          "text": [
            "Hello, my name is Alice and I am 25 years old.\n"
          ]
        }
      ]
    },
    {
      "cell_type": "code",
      "source": [
        "# 12. Implement a class Student with attributes name and grades.Create a method average_grade() to compute the average of the grades.\n",
        "\n",
        "class Student:\n",
        "    def __init__(self, name, grades):\n",
        "        self.name = name\n",
        "        self.grades = grades\n",
        "\n",
        "    def average_grade(self):\n",
        "        return sum(self.grades) / len(self.grades)\n",
        "\n",
        "s1 = Student(\"Alice\", [85, 90, 78, 92])\n",
        "print(\"Average Grade of\", s1.name, \":\", s1.average_grade())"
      ],
      "metadata": {
        "colab": {
          "base_uri": "https://localhost:8080/"
        },
        "id": "HGeU5uoFCarw",
        "outputId": "ad02dff5-d8f6-41eb-bbc1-c38dd4d6dabe"
      },
      "execution_count": 12,
      "outputs": [
        {
          "output_type": "stream",
          "name": "stdout",
          "text": [
            "Average Grade of Alice : 86.25\n"
          ]
        }
      ]
    },
    {
      "cell_type": "code",
      "source": [
        "# 13. Create a class Rectangle with methods set_dimensions() to set the dimensions and area() to calculate the area.\n",
        "class Rectangle:\n",
        "    def __init__(self):\n",
        "        self.length = 0\n",
        "        self.width = 0\n",
        "\n",
        "    def set_dimensions(self, length, width):\n",
        "        self.length = length\n",
        "        self.width = width\n",
        "\n",
        "    def area(self):\n",
        "        return self.length * self.width\n",
        "\n",
        "r = Rectangle()\n",
        "r.set_dimensions(5, 3)\n",
        "print(\"Area of Rectangle:\", r.area())"
      ],
      "metadata": {
        "colab": {
          "base_uri": "https://localhost:8080/"
        },
        "id": "ZBX53HH3Cnpo",
        "outputId": "edaee18c-d782-4359-f5de-066508f4dbb8"
      },
      "execution_count": 13,
      "outputs": [
        {
          "output_type": "stream",
          "name": "stdout",
          "text": [
            "Area of Rectangle: 15\n"
          ]
        }
      ]
    },
    {
      "cell_type": "code",
      "source": [
        "# 14. Create a class Employee with a method calculate_salary() that computes the salary based on hours worked and hourly rate.Create a derived class Manager that adds a bonus to the salary.\n",
        "\n",
        "class Employee:\n",
        "    def __init__(self, hours_worked, hourly_rate):\n",
        "        self.hours_worked = hours_worked\n",
        "        self.hourly_rate = hourly_rate\n",
        "\n",
        "    def calculate_salary(self):\n",
        "        return self.hours_worked * self.hourly_rate\n",
        "\n",
        "class Manager(Employee):\n",
        "    def __init__(self, hours_worked, hourly_rate, bonus):\n",
        "        super().__init__(hours_worked, hourly_rate)\n",
        "        self.bonus = bonus\n",
        "\n",
        "    def calculate_salary(self):\n",
        "        base_salary = super().calculate_salary()\n",
        "        return base_salary + self.bonus\n",
        "\n",
        "e = Employee(40, 50)\n",
        "m = Manager(40, 50, 500)\n",
        "\n",
        "print(\"Employee Salary:\", e.calculate_salary())\n",
        "print(\"Manager Salary:\", m.calculate_salary())"
      ],
      "metadata": {
        "colab": {
          "base_uri": "https://localhost:8080/"
        },
        "id": "FxVu4A1cC1b_",
        "outputId": "6648ea30-fbb1-4189-8c41-f64c661ca382"
      },
      "execution_count": 14,
      "outputs": [
        {
          "output_type": "stream",
          "name": "stdout",
          "text": [
            "Employee Salary: 2000\n",
            "Manager Salary: 2500\n"
          ]
        }
      ]
    },
    {
      "cell_type": "code",
      "source": [
        "# 15. Create a class Product with attributes name, price, and quantity.Implement a method total_price() that calculates the total price of the product.\n",
        "\n",
        "class Product:\n",
        "    def __init__(self, name, price, quantity):\n",
        "        self.name = name\n",
        "        self.price = price\n",
        "        self.quantity = quantity\n",
        "\n",
        "    def total_price(self):\n",
        "        return self.price * self.quantity\n",
        "\n",
        "p1 = Product(\"Laptop\", 50000, 2)\n",
        "p2 = Product(\"Headphones\", 2000, 3)\n",
        "\n",
        "print(f\"Total price for {p1.name}: {p1.total_price()}\")\n",
        "print(f\"Total price for {p2.name}: {p2.total_price()}\")"
      ],
      "metadata": {
        "colab": {
          "base_uri": "https://localhost:8080/"
        },
        "id": "QDsTgq3KC_3u",
        "outputId": "3cdad69e-8a26-4724-c92c-0953ccf99287"
      },
      "execution_count": 15,
      "outputs": [
        {
          "output_type": "stream",
          "name": "stdout",
          "text": [
            "Total price for Laptop: 100000\n",
            "Total price for Headphones: 6000\n"
          ]
        }
      ]
    },
    {
      "cell_type": "code",
      "source": [
        "# 16. Create a class Animal with an abstract method sound().Create two derived classes Cow and Sheep that implement the sound() method.\n",
        "\n",
        "from abc import ABC, abstractmethod\n",
        "\n",
        "class Animal(ABC):\n",
        "    @abstractmethod\n",
        "    def sound(self):\n",
        "        pass\n",
        "\n",
        "class Cow(Animal):\n",
        "    def sound(self):\n",
        "        return \"Moo\"\n",
        "\n",
        "class Sheep(Animal):\n",
        "    def sound(self):\n",
        "        return \"Baa\"\n",
        "\n",
        "cow = Cow()\n",
        "sheep = Sheep()\n",
        "\n",
        "print(\"Cow sound:\", cow.sound())\n",
        "print(\"Sheep sound:\", sheep.sound())"
      ],
      "metadata": {
        "colab": {
          "base_uri": "https://localhost:8080/"
        },
        "id": "Rwdeqmh_DOGc",
        "outputId": "be3a930e-61c4-4032-f8aa-03bece33d308"
      },
      "execution_count": 16,
      "outputs": [
        {
          "output_type": "stream",
          "name": "stdout",
          "text": [
            "Cow sound: Moo\n",
            "Sheep sound: Baa\n"
          ]
        }
      ]
    },
    {
      "cell_type": "code",
      "source": [
        "# 17. Create a class Book with attributes title, author, and year_published.Add a method get_book_info() that returns a formatted string with the book's details.\n",
        "\n",
        "class Book:\n",
        "    def __init__(self, title, author, year_published):\n",
        "        self.title = title\n",
        "        self.author = author\n",
        "        self.year_published = year_published\n",
        "\n",
        "    def get_book_info(self):\n",
        "        return f\"'{self.title}' by {self.author}, published in {self.year_published}\"\n",
        "\n",
        "book1 = Book(\"Atomic Habits\", \"James Clear\", 2018)\n",
        "print(book1.get_book_info())"
      ],
      "metadata": {
        "colab": {
          "base_uri": "https://localhost:8080/"
        },
        "id": "WN_OOLX6DXFj",
        "outputId": "4518c29e-da46-4234-e68b-5244b0c942a9"
      },
      "execution_count": 17,
      "outputs": [
        {
          "output_type": "stream",
          "name": "stdout",
          "text": [
            "'Atomic Habits' by James Clear, published in 2018\n"
          ]
        }
      ]
    },
    {
      "cell_type": "code",
      "source": [
        "# 18. Create a class House with attributes address and price.Create a derived class Mansion that adds an attribute number_of_rooms.\n",
        "class House:\n",
        "    def __init__(self, address, price):\n",
        "        self.address = address\n",
        "        self.price = price\n",
        "\n",
        "    def house_info(self):\n",
        "        return f\"House located at {self.address}, Price: ₹{self.price}\"\n",
        "\n",
        "class Mansion(House):\n",
        "    def __init__(self, address, price, number_of_rooms):\n",
        "        super().__init__(address, price)\n",
        "        self.number_of_rooms = number_of_rooms\n",
        "\n",
        "    def house_info(self):\n",
        "        return f\"Mansion at {self.address}, Price: ₹{self.price}, Rooms: {self.number_of_rooms}\"\n",
        "\n",
        "h = House(\"123 Street, Delhi\", 5000000)\n",
        "print(h.house_info())\n",
        "\n",
        "m = Mansion(\"VIP Road, Mumbai\", 25000000, 12)\n",
        "print(m.house_info())"
      ],
      "metadata": {
        "colab": {
          "base_uri": "https://localhost:8080/"
        },
        "id": "Kq-dOXGZDevI",
        "outputId": "ae85cdd1-da1a-47ae-bd42-65c84edcee47"
      },
      "execution_count": 18,
      "outputs": [
        {
          "output_type": "stream",
          "name": "stdout",
          "text": [
            "House located at 123 Street, Delhi, Price: ₹5000000\n",
            "Mansion at VIP Road, Mumbai, Price: ₹25000000, Rooms: 12\n"
          ]
        }
      ]
    },
    {
      "cell_type": "markdown",
      "source": [
        "# ***THANK YOU***"
      ],
      "metadata": {
        "id": "yBNfbcStD7nx"
      }
    }
  ]
}