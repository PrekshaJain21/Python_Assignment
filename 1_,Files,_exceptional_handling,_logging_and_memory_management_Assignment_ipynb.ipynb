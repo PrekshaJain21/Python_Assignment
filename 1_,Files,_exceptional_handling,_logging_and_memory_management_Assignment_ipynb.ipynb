{
  "nbformat": 4,
  "nbformat_minor": 0,
  "metadata": {
    "colab": {
      "provenance": []
    },
    "kernelspec": {
      "name": "python3",
      "display_name": "Python 3"
    },
    "language_info": {
      "name": "python"
    }
  },
  "cells": [
    {
      "cell_type": "markdown",
      "source": [
        "# **Files, exceptional handling, logging and memory management Questions**"
      ],
      "metadata": {
        "id": "crLD25udJ5_T"
      }
    },
    {
      "cell_type": "markdown",
      "source": [
        "Ques 1: What is the difference between interpreted and compiled languages?\n",
        "\n",
        "Ans 1: Interpreted languages: Code is executed line by line by an interpreter. They are slower but easier to debug and platform-independent.\n",
        "Compiled languages: Entire code is converted into machine code before execution. They are faster but less flexible across platforms.\n",
        "\n",
        "✅ Example:\n",
        "Python → Interpreted.\n",
        "C/C++ → Compiled.\n",
        "\n",
        "Ques 2: What is exception handling in Python?\n",
        "\n",
        "Ans 2: Exception handling is a mechanism to handle runtime errors so that the program continues execution instead of crashing.\n",
        "Uses try, except, else, and finally.\n",
        "Helps in writing secure and reliable code.\n",
        "\n",
        "✅ Example:\n",
        "try:\n",
        "    x = 10 / 0\n",
        "except ZeroDivisionError:\n",
        "    print(\"You cannot divide by zero!\")\n",
        "\n",
        "Ques 3: What is the purpose of the finally block in exception handling?\n",
        "\n",
        "Ans 3: The finally block executes always, whether or not an exception occurs.\n",
        "Used for cleanup tasks like closing files, releasing memory, or database connections.\n",
        "\n",
        "✅ Example:\n",
        "try:\n",
        "    f = open(\"test.txt\", \"r\")\n",
        "except FileNotFoundError:\n",
        "    print(\"File not found\")\n",
        "finally:\n",
        "    print(\"Always executed\")\n",
        "\n",
        "Ques 4: What is logging in Python?\n",
        "\n",
        "Ans 4: Logging is a way to track events in your program and record them for debugging, analysis, or monitoring.More flexible than print().Supports different severity levels.\n",
        "\n",
        "✅ Example:\n",
        "import logging\n",
        "logging.basicConfig(level=logging.INFO)\n",
        "logging.info(\"This is an info message\")\n",
        "\n",
        "Ques 5: What is the significance of the __del__ method in Python?\n",
        "\n",
        "Ans 5: The __del__ method is a destructor, called automatically when an object is destroyed.Used for cleanup operations (closing files, releasing memory).\n",
        "However, it’s not always guaranteed when it will be called (depends on garbage collection).\n",
        "\n",
        "✅ Example:\n",
        "class Demo:\n",
        "    def __del__(self):\n",
        "        print(\"Destructor called\")\n",
        "\n",
        "Ques 6: What is the difference between import and from ... import in Python?\n",
        "\n",
        "Ans 6: import module: Imports the whole module. Must use module.func().\n",
        "from module import func: Imports only required functions/classes.\n",
        "\n",
        "✅ Example:\n",
        "import math\n",
        "print(math.sqrt(25))\n",
        "from math import sqrt\n",
        "print(sqrt(25))\n",
        "\n",
        "Ques 7: How can you handle multiple exceptions in Python?\n",
        "\n",
        "Ans 7:Use multiple except blocks or group them in a tuple.\n",
        "\n",
        "✅ Example:\n",
        "try:\n",
        "    val = int(\"abc\")\n",
        "except ValueError:\n",
        "    print(\"Value error\")\n",
        "except TypeError:\n",
        "    print(\"Type error\")\n",
        "\n",
        "Ques 8: What is the purpose of the with statement when handling files in Python?\n",
        "\n",
        "Ans 8:with automatically closes the file after use.It is a context manager.\n",
        "\n",
        "✅ Example:\n",
        "with open(\"data.txt\", \"r\") as f:\n",
        "    content = f.read()\n",
        "\n",
        "Ques 9: What is the difference between multithreading and multiprocessing?\n",
        "\n",
        "Ans 9:Multithreading: Multiple threads share the same memory → lightweight, good for I/O tasks.\n",
        "Multiprocessing: Multiple processes with separate memory → better for CPU-heavy tasks.\n",
        "\n",
        "✅ Example:\n",
        "Web server → Multithreading.\n",
        "Data processing → Multiprocessing.\n",
        "\n",
        "Ques 10: What are the advantages of using logging in a program?\n",
        "\n",
        "Ans 10: Debugging support.\n",
        "\n",
        "Stores logs in files for future analysis.\n",
        "\n",
        "Provides different severity levels.\n",
        "\n",
        "Thread-safe and configurable.\n",
        "\n",
        "Works across modules.\n",
        "\n",
        "Ques 11: What is memory management in Python?\n",
        "\n",
        "Ans 11: Handled automatically by Python memory manager.\n",
        "\n",
        "Uses reference counting and garbage collection.\n",
        "\n",
        "Allocates and deallocates memory to objects as needed.\n",
        "\n",
        "Ques 12: What are the basic steps involved in exception handling in Python?\n",
        "\n",
        "Ans 12: Write risky code in try.\n",
        "\n",
        "Catch errors in except.\n",
        "\n",
        "Use else if no error occurs.\n",
        "\n",
        "Use finally for cleanup.\n",
        "\n",
        "Ques 13: Why is memory management important in Python?\n",
        "\n",
        "Ans 13: Prevents memory leaks.\n",
        "\n",
        "Improves performance.\n",
        "\n",
        "Ensures efficient use of system resources.\n",
        "\n",
        "Ques 14: What is the role of try and except in exception handling?\n",
        "\n",
        "Ans 14: try: Defines code that may cause errors.\n",
        "\n",
        "except: Defines how to handle those errors.\n",
        "\n",
        "Ques 15: How does Python's garbage collection system work?\n",
        "\n",
        "Ans 15:Uses reference counting to track objects.\n",
        "\n",
        "If reference count = 0, object is destroyed.\n",
        "\n",
        "Cyclic garbage collector handles circular references.\n",
        "\n",
        "Ques 16: What is the purpose of the else block in exception handling?\n",
        "\n",
        "Ans 16: else runs only if no exceptions occur in the try block.\n",
        "\n",
        "Ques 17: What are the common logging levels in Python?\n",
        "\n",
        "Ans 17: DEBUG → Detailed info for developers.\n",
        "\n",
        "INFO → General events.\n",
        "\n",
        "WARNING → Something unexpected but not fatal.\n",
        "\n",
        "ERROR → Serious issue.\n",
        "\n",
        "CRITICAL → Very severe error.\n",
        "\n",
        "Ques 18: What is the difference between os.fork() and multiprocessing in Python?\n",
        "\n",
        "Ans 18: os.fork(): Low-level method, creates child process (Unix only).\n",
        "\n",
        "multiprocessing: Cross-platform, higher-level API for process management.\n",
        "\n",
        "Ques 19: What is the importance of closing a file in Python?\n",
        "\n",
        "Ans 19: Frees system resources.\n",
        "\n",
        "Ensures all data is written.\n",
        "\n",
        "Prevents data corruption.\n",
        "\n",
        "Ques 20: What is the difference between file.read() and file.readline() in Python?\n",
        "\n",
        "Ans 20: read(): Reads entire file (or given characters).\n",
        "\n",
        "readline(): Reads only one line at a time.\n",
        "\n",
        "Ques 21: What is the logging module in Python used for?\n",
        "\n",
        "Ans 21: Used for tracking, recording, and debugging program flow.\n",
        "\n",
        "Supports log levels and file handling.\n",
        "\n",
        "Ques 22: What is the os module in Python used for in file handling?\n",
        "\n",
        "Ans 22: Interacts with the operating system.\n",
        "\n",
        "Can create, rename, delete files, and work with paths.\n",
        "\n",
        "✅ Example:\n",
        "import os\n",
        "os.rename(\"old.txt\", \"new.txt\")\n",
        "\n",
        "Ques 23: What are the challenges associated with memory management in Python?\n",
        "\n",
        "Ans 23: Circular references.\n",
        "\n",
        "Overhead of garbage collector.\n",
        "\n",
        "Large object storage.\n",
        "\n",
        "High memory use for data-intensive apps.\n",
        "\n",
        "Ques 24: How do you raise an exception manually in Python?\n",
        "\n",
        "Ans 24: Use the raise keyword.\n",
        "\n",
        "✅ Example:\n",
        "raise ValueError(\"Invalid input\")\n",
        "\n",
        "Ques 25: Why is it important to use multithreading in certain applications?\n",
        "\n",
        "Ans 25: Useful for I/O-bound applications.\n",
        "\n",
        "Increases responsiveness (e.g., GUI apps).\n",
        "\n",
        "Efficient resource usage.\n",
        "\n",
        "Can handle multiple tasks simultaneously. **bold text****"
      ],
      "metadata": {
        "id": "hcm0WytoHGXS"
      }
    },
    {
      "cell_type": "markdown",
      "source": [
        "# **Practical Questions:-**\n",
        "\n",
        "\n"
      ],
      "metadata": {
        "id": "RZtas2HKJS0E"
      }
    },
    {
      "cell_type": "code",
      "execution_count": 28,
      "metadata": {
        "colab": {
          "base_uri": "https://localhost:8080/"
        },
        "id": "YjRiXlYmHDNw",
        "outputId": "1b19bb81-4a22-4882-be20-636f3c078970"
      },
      "outputs": [
        {
          "output_type": "stream",
          "name": "stdout",
          "text": [
            "String written successfully!\n"
          ]
        }
      ],
      "source": [
        "#Ques 1 : How can you open a file for writing in Python and write a string to it?\n",
        "# Open file in write mode and write a string\n",
        "with open(\"example.txt\", \"w\") as file:\n",
        "    file.write(\"Hello, this is a sample string written to a file.\")\n",
        "\n",
        "print(\"String written successfully!\")\n"
      ]
    },
    {
      "cell_type": "code",
      "source": [
        "#Ques 2 : Write a Python program to read the contents of a file and print each line\n",
        "with open(\"example.txt\", \"r\") as file:\n",
        "    for line in file:\n",
        "        print(line.strip())\n"
      ],
      "metadata": {
        "colab": {
          "base_uri": "https://localhost:8080/"
        },
        "id": "D_t6pHM2HXeV",
        "outputId": "b396a425-47f8-4741-ee2f-24d2685688d4"
      },
      "execution_count": 2,
      "outputs": [
        {
          "output_type": "stream",
          "name": "stdout",
          "text": [
            "Hello, this is a sample string written to a file.\n"
          ]
        },
        {
          "output_type": "stream",
          "name": "stderr",
          "text": [
            "/usr/local/lib/python3.12/dist-packages/IPython/core/inputtransformer2.py:478: UserWarning: `make_tokens_by_line` received a list of lines which do not have lineending markers ('\\n', '\\r', '\\r\\n', '\\x0b', '\\x0c'), behavior will be unspecified\n",
            "  warnings.warn(\"`make_tokens_by_line` received a list of lines which do not have lineending markers ('\\\\n', '\\\\r', '\\\\r\\\\n', '\\\\x0b', '\\\\x0c'), behavior will be unspecified\")\n"
          ]
        }
      ]
    },
    {
      "cell_type": "code",
      "source": [
        "#Ques 3 : How would you handle a case where the file doesn't exist while trying to open it for reading?\n",
        "try:\n",
        "    with open(\"nofile.txt\", \"r\") as file:\n",
        "        content = file.read()\n",
        "except FileNotFoundError:\n",
        "    print(\"File does not exist!\")\n"
      ],
      "metadata": {
        "colab": {
          "base_uri": "https://localhost:8080/"
        },
        "id": "l9_CIYCxHds6",
        "outputId": "e29da0ed-9d8a-4565-c3e3-a867a9545f02"
      },
      "execution_count": 3,
      "outputs": [
        {
          "output_type": "stream",
          "name": "stdout",
          "text": [
            "File does not exist!\n"
          ]
        }
      ]
    },
    {
      "cell_type": "code",
      "source": [
        "#Ques 4 : Write a Python script that reads from one file and writes its content to another file\n",
        "\n",
        "# Create source.txt with some sample content\n",
        "with open(\"source.txt\", \"w\") as f:\n",
        "    f.write(\"Line 1: Hello World\\n\")\n",
        "    f.write(\"Line 2: Python File Handling\\n\")\n",
        "    f.write(\"Line 3: Copying content to another file\\n\")\n",
        "\n",
        "print(\"source.txt created successfully!\")\n",
        "\n",
        "with open(\"source.txt\", \"r\") as src, open(\"destination.txt\", \"w\") as dest:\n",
        "    for line in src:\n",
        "        dest.write(line)\n",
        "print(\"Content copied successfully!\")\n"
      ],
      "metadata": {
        "colab": {
          "base_uri": "https://localhost:8080/"
        },
        "id": "sC4PZn0nHfLE",
        "outputId": "cbb4cbdb-d002-468d-ca47-09fa9cababf8"
      },
      "execution_count": 21,
      "outputs": [
        {
          "output_type": "stream",
          "name": "stdout",
          "text": [
            "source.txt created successfully!\n",
            "Content copied successfully!\n"
          ]
        }
      ]
    },
    {
      "cell_type": "code",
      "source": [
        "#Ques 5 : How would you catch and handle division by zero error in Python?\n",
        "try:\n",
        "    result = 10 / 0\n",
        "except ZeroDivisionError:\n",
        "    print(\"Division by zero is not allowed!\")\n"
      ],
      "metadata": {
        "colab": {
          "base_uri": "https://localhost:8080/"
        },
        "id": "dzCg6zo2Hgx4",
        "outputId": "118bbed4-0a71-4965-8723-64f2e0ee55bc"
      },
      "execution_count": 5,
      "outputs": [
        {
          "output_type": "stream",
          "name": "stdout",
          "text": [
            "Division by zero is not allowed!\n"
          ]
        }
      ]
    },
    {
      "cell_type": "code",
      "source": [
        "#Ques 6 : Write a Python program that logs an error message to a log file when a division by zero exception occurs\n",
        "import logging\n",
        "logging.basicConfig(filename=\"errors.log\", level=logging.ERROR)\n",
        "\n",
        "try:\n",
        "    result = 10 / 0\n",
        "except ZeroDivisionError as e:\n",
        "    logging.error(\"Division by zero error: %s\", e)\n"
      ],
      "metadata": {
        "colab": {
          "base_uri": "https://localhost:8080/"
        },
        "id": "Lt25LNg9Hi2r",
        "outputId": "38705cf7-c43d-4006-f760-d4e44b343d77"
      },
      "execution_count": 6,
      "outputs": [
        {
          "output_type": "stream",
          "name": "stderr",
          "text": [
            "ERROR:root:Division by zero error: division by zero\n"
          ]
        }
      ]
    },
    {
      "cell_type": "code",
      "source": [
        "#Ques 7 : How do you log information at different levels (INFO, ERROR, WARNING) in Python using the logging module?\n",
        "import logging\n",
        "\n",
        "logging.basicConfig(level=logging.DEBUG)\n",
        "logging.info(\"This is an info message\")\n",
        "logging.warning(\"This is a warning message\")\n",
        "logging.error(\"This is an error message\")\n"
      ],
      "metadata": {
        "colab": {
          "base_uri": "https://localhost:8080/"
        },
        "id": "MIoMZMW6HkTW",
        "outputId": "db286ccb-6585-4f40-dab4-247d0136d698"
      },
      "execution_count": 7,
      "outputs": [
        {
          "output_type": "stream",
          "name": "stderr",
          "text": [
            "WARNING:root:This is a warning message\n",
            "ERROR:root:This is an error message\n"
          ]
        }
      ]
    },
    {
      "cell_type": "code",
      "source": [
        "#Ques 8 : Write a program to handle a file opening error using exception handling\n",
        "try:\n",
        "    with open(\"nonexistent.txt\", \"r\") as f:\n",
        "        print(f.read())\n",
        "except FileNotFoundError:\n",
        "    print(\"Error: File not found!\")\n"
      ],
      "metadata": {
        "colab": {
          "base_uri": "https://localhost:8080/"
        },
        "id": "cCusbCp6HmIG",
        "outputId": "8defbba3-9fb1-4163-ccac-3eeb015e8a3a"
      },
      "execution_count": 8,
      "outputs": [
        {
          "output_type": "stream",
          "name": "stdout",
          "text": [
            "Error: File not found!\n"
          ]
        }
      ]
    },
    {
      "cell_type": "code",
      "source": [
        "#Ques 9: How can you read a file line by line and store its content in a list in Python?\n",
        "lines_list = []\n",
        "with open(\"example.txt\", \"r\") as f:\n",
        "    lines_list = f.readlines()\n",
        "\n",
        "print(lines_list)\n"
      ],
      "metadata": {
        "colab": {
          "base_uri": "https://localhost:8080/"
        },
        "id": "3uFck1APHnuL",
        "outputId": "4b86c1ae-2243-4887-a1c3-d67fd1e6c06d"
      },
      "execution_count": 9,
      "outputs": [
        {
          "output_type": "stream",
          "name": "stdout",
          "text": [
            "['Hello, this is a sample string written to a file.']\n"
          ]
        }
      ]
    },
    {
      "cell_type": "code",
      "source": [
        "#Ques 10 : How can you append data to an existing file in Python?\n",
        "with open(\"example.txt\", \"a\") as f:\n",
        "    f.write(\"\\nThis is appended text.\")\n",
        "print(\"Data appended successfully!\")\n"
      ],
      "metadata": {
        "colab": {
          "base_uri": "https://localhost:8080/"
        },
        "id": "UxQ5QwsPHqOi",
        "outputId": "29b365f0-2189-4fd4-e2b2-80f6bca62acc"
      },
      "execution_count": 10,
      "outputs": [
        {
          "output_type": "stream",
          "name": "stdout",
          "text": [
            "Data appended successfully!\n"
          ]
        }
      ]
    },
    {
      "cell_type": "code",
      "source": [
        "#Ques 11 : Write a Python program that uses a try-except block to handle an error when attempting to access a dictionary key that doesn't exist\n",
        "my_dict = {\"a\": 1, \"b\": 2}\n",
        "try:\n",
        "    print(my_dict[\"c\"])\n",
        "except KeyError:\n",
        "    print(\"Key not found in dictionary!\")\n"
      ],
      "metadata": {
        "colab": {
          "base_uri": "https://localhost:8080/"
        },
        "id": "oFs8kFJQHrwf",
        "outputId": "a01153ad-d66a-4b74-93aa-41aa6f0c154f"
      },
      "execution_count": 11,
      "outputs": [
        {
          "output_type": "stream",
          "name": "stdout",
          "text": [
            "Key not found in dictionary!\n"
          ]
        }
      ]
    },
    {
      "cell_type": "code",
      "source": [
        "#Ques 12 : Write a program that demonstrates using multiple except blocks to handle different types of exceptions\n",
        "try:\n",
        "    x = int(\"abc\")\n",
        "    y = 10 / 0\n",
        "except ValueError:\n",
        "    print(\"Value Error occurred!\")\n",
        "except ZeroDivisionError:\n",
        "    print(\"Zero Division Error occurred!\")\n"
      ],
      "metadata": {
        "colab": {
          "base_uri": "https://localhost:8080/"
        },
        "id": "v9_Bzzs_HtOf",
        "outputId": "af98a8c8-d7ad-4af2-cfd2-18f252e05abe"
      },
      "execution_count": 12,
      "outputs": [
        {
          "output_type": "stream",
          "name": "stdout",
          "text": [
            "Value Error occurred!\n"
          ]
        }
      ]
    },
    {
      "cell_type": "code",
      "source": [
        "#Ques 13 : How would you check if a file exists before attempting to read it in Python?\n",
        "import os\n",
        "if os.path.exists(\"example.txt\"):\n",
        "    with open(\"example.txt\", \"r\") as f:\n",
        "        print(f.read())\n",
        "else:\n",
        "    print(\"File does not exist!\")\n"
      ],
      "metadata": {
        "colab": {
          "base_uri": "https://localhost:8080/"
        },
        "id": "79bOZXuxHumK",
        "outputId": "bb77d84a-3fef-4ebe-aeb6-3ed3032fb514"
      },
      "execution_count": 13,
      "outputs": [
        {
          "output_type": "stream",
          "name": "stdout",
          "text": [
            "Hello, this is a sample string written to a file.\n",
            "This is appended text.\n"
          ]
        }
      ]
    },
    {
      "cell_type": "code",
      "source": [
        "#Ques 14 : Write a program that uses the logging module to log both informational and error messages\n",
        "import logging\n",
        "logging.basicConfig(filename=\"app.log\", level=logging.DEBUG)\n",
        "\n",
        "logging.info(\"Program started\")\n",
        "try:\n",
        "    x = 10 / 0\n",
        "except ZeroDivisionError:\n",
        "    logging.error(\"Division by zero error occurred!\")\n",
        "logging.info(\"Program ended\")\n"
      ],
      "metadata": {
        "colab": {
          "base_uri": "https://localhost:8080/"
        },
        "id": "NW2WkdGQHv_P",
        "outputId": "c3234f2d-18be-4950-9eaa-ccb7a4809ffb"
      },
      "execution_count": 14,
      "outputs": [
        {
          "output_type": "stream",
          "name": "stderr",
          "text": [
            "ERROR:root:Division by zero error occurred!\n"
          ]
        }
      ]
    },
    {
      "cell_type": "code",
      "source": [
        "#Ques 15 : Write a Python program that prints the content of a file and handles the case when the file is empty\n",
        "with open(\"example.txt\", \"r\") as f:\n",
        "    content = f.read()\n",
        "    if content:\n",
        "        print(content)\n",
        "    else:\n",
        "        print(\"File is empty\")\n"
      ],
      "metadata": {
        "colab": {
          "base_uri": "https://localhost:8080/"
        },
        "id": "FBs47x7hHxpZ",
        "outputId": "34e48eea-c967-41f9-feca-99cb48d25963"
      },
      "execution_count": 15,
      "outputs": [
        {
          "output_type": "stream",
          "name": "stdout",
          "text": [
            "Hello, this is a sample string written to a file.\n",
            "This is appended text.\n"
          ]
        }
      ]
    },
    {
      "cell_type": "code",
      "source": [
        "!pip install memory-profiler\n"
      ],
      "metadata": {
        "colab": {
          "base_uri": "https://localhost:8080/"
        },
        "id": "E9PUSfy2ILl9",
        "outputId": "dc7ecbc1-280b-4ee4-91ad-e1bd5ffac38b"
      },
      "execution_count": 22,
      "outputs": [
        {
          "output_type": "stream",
          "name": "stdout",
          "text": [
            "Collecting memory-profiler\n",
            "  Downloading memory_profiler-0.61.0-py3-none-any.whl.metadata (20 kB)\n",
            "Requirement already satisfied: psutil in /usr/local/lib/python3.12/dist-packages (from memory-profiler) (5.9.5)\n",
            "Downloading memory_profiler-0.61.0-py3-none-any.whl (31 kB)\n",
            "Installing collected packages: memory-profiler\n",
            "Successfully installed memory-profiler-0.61.0\n"
          ]
        }
      ]
    },
    {
      "cell_type": "code",
      "source": [
        "#Ques 16 : Demonstrate how to use memory profiling to check the memory usage of a small program\n",
        "from memory_profiler import profile\n",
        "\n",
        "@profile\n",
        "def test_function():\n",
        "    nums = [i for i in range(100)]\n",
        "    return nums\n",
        "\n",
        "test_function()\n"
      ],
      "metadata": {
        "colab": {
          "base_uri": "https://localhost:8080/"
        },
        "id": "LwwmaZx9Hzgd",
        "outputId": "11f2e15b-819b-4de7-9571-48fc831aaf9f"
      },
      "execution_count": 24,
      "outputs": [
        {
          "output_type": "stream",
          "name": "stdout",
          "text": [
            "ERROR: Could not find file /tmp/ipython-input-2079060962.py\n"
          ]
        },
        {
          "output_type": "execute_result",
          "data": {
            "text/plain": [
              "[0,\n",
              " 1,\n",
              " 2,\n",
              " 3,\n",
              " 4,\n",
              " 5,\n",
              " 6,\n",
              " 7,\n",
              " 8,\n",
              " 9,\n",
              " 10,\n",
              " 11,\n",
              " 12,\n",
              " 13,\n",
              " 14,\n",
              " 15,\n",
              " 16,\n",
              " 17,\n",
              " 18,\n",
              " 19,\n",
              " 20,\n",
              " 21,\n",
              " 22,\n",
              " 23,\n",
              " 24,\n",
              " 25,\n",
              " 26,\n",
              " 27,\n",
              " 28,\n",
              " 29,\n",
              " 30,\n",
              " 31,\n",
              " 32,\n",
              " 33,\n",
              " 34,\n",
              " 35,\n",
              " 36,\n",
              " 37,\n",
              " 38,\n",
              " 39,\n",
              " 40,\n",
              " 41,\n",
              " 42,\n",
              " 43,\n",
              " 44,\n",
              " 45,\n",
              " 46,\n",
              " 47,\n",
              " 48,\n",
              " 49,\n",
              " 50,\n",
              " 51,\n",
              " 52,\n",
              " 53,\n",
              " 54,\n",
              " 55,\n",
              " 56,\n",
              " 57,\n",
              " 58,\n",
              " 59,\n",
              " 60,\n",
              " 61,\n",
              " 62,\n",
              " 63,\n",
              " 64,\n",
              " 65,\n",
              " 66,\n",
              " 67,\n",
              " 68,\n",
              " 69,\n",
              " 70,\n",
              " 71,\n",
              " 72,\n",
              " 73,\n",
              " 74,\n",
              " 75,\n",
              " 76,\n",
              " 77,\n",
              " 78,\n",
              " 79,\n",
              " 80,\n",
              " 81,\n",
              " 82,\n",
              " 83,\n",
              " 84,\n",
              " 85,\n",
              " 86,\n",
              " 87,\n",
              " 88,\n",
              " 89,\n",
              " 90,\n",
              " 91,\n",
              " 92,\n",
              " 93,\n",
              " 94,\n",
              " 95,\n",
              " 96,\n",
              " 97,\n",
              " 98,\n",
              " 99]"
            ]
          },
          "metadata": {},
          "execution_count": 24
        }
      ]
    },
    {
      "cell_type": "code",
      "source": [
        "#Ques 17 : Write a Python program to create and write a list of numbers to a file, one number per line\n",
        "numbers = [1, 2, 3, 4, 5]\n",
        "with open(\"numbers.txt\", \"w\") as f:\n",
        "    for num in numbers:\n",
        "        f.write(str(num) + \"\\n\")\n",
        "print(\"Numbers written successfully!\")\n"
      ],
      "metadata": {
        "colab": {
          "base_uri": "https://localhost:8080/"
        },
        "id": "4QLfYMECH1cl",
        "outputId": "90b66276-9454-4d5f-dd97-41900fe4239e"
      },
      "execution_count": 17,
      "outputs": [
        {
          "output_type": "stream",
          "name": "stdout",
          "text": [
            "Numbers written successfully!\n"
          ]
        }
      ]
    },
    {
      "cell_type": "code",
      "source": [
        "#Ques 18 : How would you implement a basic logging setup that logs to a file with rotation after 1MB?\n",
        "import logging\n",
        "from logging.handlers import RotatingFileHandler\n",
        "\n",
        "handler = RotatingFileHandler(\"rotating.log\", maxBytes=1*1024*1024, backupCount=3)\n",
        "logging.basicConfig(handlers=[handler], level=logging.INFO)\n",
        "\n",
        "logging.info(\"This is a test log message\")\n"
      ],
      "metadata": {
        "id": "pgfSBuDwH5co"
      },
      "execution_count": 18,
      "outputs": []
    },
    {
      "cell_type": "code",
      "source": [
        "#Ques 19 : Write a program that handles both IndexError and KeyError using a try-except block\n",
        "try:\n",
        "    lst = [1, 2, 3]\n",
        "    print(lst[5])\n",
        "    d = {\"a\": 1}\n",
        "    print(d[\"b\"])\n",
        "except IndexError:\n",
        "    print(\"Index out of range!\")\n",
        "except KeyError:\n",
        "    print(\"Key not found in dictionary!\")\n"
      ],
      "metadata": {
        "colab": {
          "base_uri": "https://localhost:8080/"
        },
        "id": "m9qH2CEdH7u6",
        "outputId": "89bc2c4d-e94b-4ab0-e256-12e02a626437"
      },
      "execution_count": 19,
      "outputs": [
        {
          "output_type": "stream",
          "name": "stdout",
          "text": [
            "Index out of range!\n"
          ]
        }
      ]
    },
    {
      "cell_type": "code",
      "source": [
        "#Ques 20 : How would you open a file and read its contents using a context manager in Python?\n",
        "with open(\"example.txt\", \"r\") as f:\n",
        "    data = f.read()\n",
        "    print(data)\n"
      ],
      "metadata": {
        "colab": {
          "base_uri": "https://localhost:8080/"
        },
        "id": "CG6n33BPH97V",
        "outputId": "dbc4f32b-ca06-46fc-b3a9-307396716560"
      },
      "execution_count": 20,
      "outputs": [
        {
          "output_type": "stream",
          "name": "stdout",
          "text": [
            "Hello, this is a sample string written to a file.\n",
            "This is appended text.\n"
          ]
        }
      ]
    },
    {
      "cell_type": "code",
      "source": [
        "#Ques 21 : Write a Python program that reads a file and prints the number of occurrences of a specific word\n",
        "filename = \"example.txt\"\n",
        "word_to_count = \"Python\"\n",
        "\n",
        "try:\n",
        "    with open(filename, \"r\") as file:\n",
        "        content = file.read()\n",
        "        count = content.count(word_to_count)\n",
        "    print(f\"The word '{word_to_count}' occurs {count} times in {filename}.\")\n",
        "except FileNotFoundError:\n",
        "    print(f\"Error: {filename} does not exist!\")\n"
      ],
      "metadata": {
        "colab": {
          "base_uri": "https://localhost:8080/"
        },
        "id": "9VNIM7xsH_d3",
        "outputId": "7e8263ca-1bab-4fee-a502-1059049ca8c8"
      },
      "execution_count": 25,
      "outputs": [
        {
          "output_type": "stream",
          "name": "stdout",
          "text": [
            "The word 'Python' occurs 0 times in example.txt.\n"
          ]
        }
      ]
    },
    {
      "cell_type": "code",
      "source": [
        "#Ques 22 : How can you check if a file is empty before attempting to read its contents\n",
        "filename = \"example.txt\"\n",
        "\n",
        "try:\n",
        "    with open(filename, \"r\") as file:\n",
        "        content = file.read()\n",
        "        if not content:\n",
        "            print(f\"{filename} is empty.\")\n",
        "        else:\n",
        "            print(f\"{filename} has content:\\n{content}\")\n",
        "except FileNotFoundError:\n",
        "    print(f\"Error: {filename} does not exist!\")\n"
      ],
      "metadata": {
        "colab": {
          "base_uri": "https://localhost:8080/"
        },
        "id": "krfl4hCbIdEq",
        "outputId": "b0de7f6e-2768-405d-9fe3-4a8053e491b5"
      },
      "execution_count": 26,
      "outputs": [
        {
          "output_type": "stream",
          "name": "stdout",
          "text": [
            "example.txt has content:\n",
            "Hello, this is a sample string written to a file.\n",
            "This is appended text.\n"
          ]
        }
      ]
    },
    {
      "cell_type": "code",
      "source": [
        "#Ques 23 : Write a Python program that writes to a log file when an error occurs during file handling\n",
        "import logging\n",
        "\n",
        "# Configure logging\n",
        "logging.basicConfig(filename=\"file_errors.log\", level=logging.ERROR,\n",
        "                    format='%(asctime)s - %(levelname)s - %(message)s')\n",
        "\n",
        "filename = \"nonexistent.txt\"\n",
        "\n",
        "try:\n",
        "    with open(filename, \"r\") as file:\n",
        "        content = file.read()\n",
        "except FileNotFoundError as e:\n",
        "    logging.error(f\"File handling error: {e}\")\n",
        "    print(f\"An error occurred. Check 'file_errors.log' for details.\")\n"
      ],
      "metadata": {
        "colab": {
          "base_uri": "https://localhost:8080/"
        },
        "id": "JdDXDW_kIhA_",
        "outputId": "207d3613-116e-45ad-dfcb-b37bb9883d38"
      },
      "execution_count": 27,
      "outputs": [
        {
          "output_type": "stream",
          "name": "stderr",
          "text": [
            "ERROR:root:File handling error: [Errno 2] No such file or directory: 'nonexistent.txt'\n"
          ]
        },
        {
          "output_type": "stream",
          "name": "stdout",
          "text": [
            "An error occurred. Check 'file_errors.log' for details.\n"
          ]
        }
      ]
    },
    {
      "cell_type": "markdown",
      "source": [
        "# **THANK YOU:)**"
      ],
      "metadata": {
        "id": "fV_8AoQLJaPR"
      }
    }
  ]
}